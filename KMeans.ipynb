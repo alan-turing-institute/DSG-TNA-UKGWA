{
 "cells": [
  {
   "cell_type": "code",
   "execution_count": 1,
   "metadata": {},
   "outputs": [],
   "source": [
    "import pandas as pd\n",
    "from sklearn.cluster import KMeans"
   ]
  },
  {
   "cell_type": "code",
   "execution_count": 25,
   "metadata": {},
   "outputs": [],
   "source": [
    "#df = pd.read_csv('/data/doc2vec/results_1576094473.csv', index_col=0, header=None)\n",
    "df = pd.read_csv('/home/federico.nanni/words_d2v_results_.csv', index_col=0, header=None)\n"
   ]
  },
  {
   "cell_type": "code",
   "execution_count": 26,
   "metadata": {},
   "outputs": [],
   "source": [
    "X = df.to_numpy()\n",
    "# del df"
   ]
  },
  {
   "cell_type": "code",
   "execution_count": 15,
   "metadata": {},
   "outputs": [],
   "source": [
    "#kmeans = KMeans(n_clusters=20, random_state=0).fit(X)\n",
    "\n",
    "\n",
    "# K-means clustering given N x d matrix of document embeddings\n",
    "\n",
    "def fit_kmeans(X,k=5):\n",
    "    kmeans=KMeans(n_clusters=k,precompute_distances=True, # note requires more memory but faster\n",
    "                    n_jobs=10,verbose=1).fit(X)\n",
    "    return kmeans\n",
    "\n",
    "no_clusters=20\n",
    "#kmeans = fit_kmeans(X,k=no_clusters)\n"
   ]
  },
  {
   "cell_type": "code",
   "execution_count": 13,
   "metadata": {},
   "outputs": [
    {
     "data": {
      "text/plain": [
       "(357831,)"
      ]
     },
     "execution_count": 13,
     "metadata": {},
     "output_type": "execute_result"
    }
   ],
   "source": [
    "kmeans.labels_\n"
   ]
  },
  {
   "cell_type": "code",
   "execution_count": 16,
   "metadata": {},
   "outputs": [
    {
     "data": {
      "text/plain": [
       "(array([ 0,  1,  2,  3,  4,  5,  6,  7,  8,  9, 10, 11, 12, 13, 14, 15, 16,\n",
       "        17, 18, 19], dtype=int32),\n",
       " array([ 5874,  6356,  7477,  7081, 33082, 12678, 11275,  8177, 11951,\n",
       "        81274, 70221,  4071,  6745, 64240,  7311,     2,  2690,  4986,\n",
       "         1870, 10470]))"
      ]
     },
     "execution_count": 16,
     "metadata": {},
     "output_type": "execute_result"
    }
   ],
   "source": [
    "import numpy as np\n",
    "np.unique(kmeans.labels_,return_counts=True)\n"
   ]
  },
  {
   "cell_type": "code",
   "execution_count": 20,
   "metadata": {},
   "outputs": [
    {
     "data": {
      "text/plain": [
       "array([[ 0.04473466, -0.10847677,  0.02660487, ...,  0.04608456,\n",
       "         0.14697363, -0.1546492 ],\n",
       "       [-0.02014614,  0.03633449, -0.20384708, ..., -0.28246147,\n",
       "         0.10725395, -0.19193574],\n",
       "       [ 0.1463134 , -0.06941426, -0.01327746, ..., -0.07848075,\n",
       "         0.24944903,  0.01675988],\n",
       "       ...,\n",
       "       [ 0.01494462, -0.0285575 ,  0.03710692, ...,  0.1394043 ,\n",
       "         0.01654542, -0.05059166],\n",
       "       [-0.03433764, -0.00828144,  0.01130883, ..., -0.04398028,\n",
       "         0.27780035,  0.03266306],\n",
       "       [ 0.14192798, -0.00756931, -0.05087665, ...,  0.02723381,\n",
       "        -0.01384173,  0.00911564]])"
      ]
     },
     "execution_count": 20,
     "metadata": {},
     "output_type": "execute_result"
    }
   ],
   "source": [
    "centroids=kmeans.cluster_centers_\n",
    "centroids"
   ]
  },
  {
   "cell_type": "code",
   "execution_count": 27,
   "metadata": {},
   "outputs": [],
   "source": [
    "cluster_dict={k:X[kmeans.labels_==k] for k in range(no_clusters)}\n",
    "\n",
    "#df.index[kmeans.labels_==k].tolist()\n",
    "\n",
    "\n"
   ]
  },
  {
   "cell_type": "code",
   "execution_count": 39,
   "metadata": {},
   "outputs": [],
   "source": [
    "from scipy.spatial import KDTree\n",
    "kdtree_dict={k:KDTree(cluster_dict[k]) for k in range(no_clusters)}\n",
    "nearest_nbrs={k:kdtree_dict[k].query(centroids[k],min(len(cluster_dict[k]),100))[1] for k in range(no_clusters)}"
   ]
  },
  {
   "cell_type": "code",
   "execution_count": 41,
   "metadata": {},
   "outputs": [],
   "source": [
    "nearest_nbrs_path={k:df.index[nearest_nbrs[k]] for k in range(no_clusters)}"
   ]
  },
  {
   "cell_type": "code",
   "execution_count": 123,
   "metadata": {},
   "outputs": [],
   "source": [
    "import json\n",
    "from collections import Counter\n",
    "most_common_ents={}\n",
    "stop_words=['UK', 'today', 'Britain', 'first', 'iPad', 'British', 'one', 'National Insurance','EU',\n",
    "           'Europe', 'the Government Digital Service Open Government Licence',\n",
    "           '© Crown','Android','iPhone','Policies Publications Consultations Statistics Announcements',\n",
    "           'Send Services', 'Benefits Births','Rhestr o', 'Wasanaethau Cymraeg',\n",
    "           'Retina', 'second', 'iPod Touch','Departments Worldwide Topics Policies Publications Announcements',\n",
    "            'non-Retina','TB','Departments Topics', 'the Government Digital Service']\n",
    "#print(stop_words)\n",
    "for k,v in nearest_nbrs_path.items():\n",
    "    cnt=Counter()\n",
    "    for path in v:\n",
    "        for i in range(1,11):\n",
    "            try:\n",
    "                full_path='/data/entities/result'+str(i)+'/'+path\n",
    "                #print(path)\n",
    "                #print(full_path)\n",
    "                with open(full_path) as f:\n",
    "                    entities=json.load(f)\n",
    "                    #print(entitities)\n",
    "                    flattened = [text[0] for type in entities for text in entities[type]]\n",
    "                    flattened=[word for word in flattened if word not in stop_words]\n",
    "                    #print(flattened)\n",
    "                    \n",
    "                    cnt.update(flattened)\n",
    "            except:\n",
    "                continue\n",
    "    #print(cnt)\n",
    "    most_common_ents[k]=[x[0] for x in cnt.most_common(10)]\n",
    "    \n"
   ]
  },
  {
   "cell_type": "code",
   "execution_count": 124,
   "metadata": {},
   "outputs": [
    {
     "name": "stdout",
     "output_type": "stream",
     "text": [
      "Top 10 terms in cluster 0 are: ['Afghanistan', 'two', 'Brazil', 'Parliament', 'London', 'China', 'Nigeria', 'India', 'third', 'the 2010 to 2015']\n",
      "Top 10 terms in cluster 1 are: ['Wales', 'Parliament', 'London', 'Commission', 'England', 'CMA', 'European', 'the 2010 to 2015', 'Liberal Democrat coalition', 'two']\n",
      "Top 10 terms in cluster 2 are: ['China', 'Commonwealth', 'two', 'Parliament', 'Afghanistan', 'three', 'Bill', 'Iran', 'Liberal Democrat coalition', 'House']\n",
      "Top 10 terms in cluster 3 are: ['London', 'Parliament', 'Singapore', 'Wales', 'Ukraine', 'Russia', 'England', 'US', 'Liberal Democrat coalition', 'two']\n",
      "Top 10 terms in cluster 4 are: ['Wales', 'Russia', 'China', 'First', 'US', 'two', 'Parliament', 'European', 'London', 'the 2010 to 2015']\n",
      "Top 10 terms in cluster 5 are: ['NHS', 'China', 'Parliament', 'London', 'Northern Ireland', 'early years', 'two', 'third', 'the 2010 to 2015', 'First']\n",
      "Top 10 terms in cluster 6 are: ['BBC', 'London', 'European', 'Hong Kong', 'Parliament', 'the 2010 to 2015', 'two', 'Liberal Democrat coalition', 'India', 'third']\n",
      "Top 10 terms in cluster 7 are: ['Scotland', 'Parliament', 'London', 'House', 'the 2010 to 2015', 'NHS', 'England', 'Liberal Democrat coalition', 'Commission', 'Today']\n",
      "Top 10 terms in cluster 8 are: ['London', 'Singapore', 'India', 'Somalia', 'England', 'third', 'Scotland', 'Parliament', '2', 'the 2010 to 2015']\n",
      "Top 10 terms in cluster 9 are: ['Wales', 'third', 'Scotland', 'Working', 'Asia', 'two', 'London', 'UN', 'only 2 minutes', 'Singapore']\n",
      "Top 10 terms in cluster 10 are: ['Wales', 'London', 'third', 'Scotland', 'Parliament', 'Working', 'Somalia', 'England', 'two', 'Bill']\n",
      "Top 10 terms in cluster 11 are: ['London', 'India', 'Scotland', 'Brazil', 'US', 'Bible', 'England', 'Parliament', 'two', 'third']\n",
      "Top 10 terms in cluster 12 are: ['Turkey', 'Hong Kong', 'London', 'Afghanistan', 'two', 'Defence', 'Parliament', 'Council', 'Commission', 'Liberal Democrat coalition']\n",
      "Top 10 terms in cluster 13 are: ['London', 'Afghanistan', 'third', 'Syria', 'Working', 'Wales', 'UN', 'two', 'England', 'North Wales']\n",
      "Top 10 terms in cluster 14 are: ['Northern Ireland', 'London', 'Africa', 'the European Union', 'two', 'US', 'Parliament', 'European', 'China', 'First']\n",
      "Top 10 terms in cluster 15 are: ['Ghana', 'annual', 'SMCPC', '27 March 2014', 'May 2016', 'Department for Education', 'two years', \"html  Government's\", \"Parliament   Government's\", 'Liberal Democrat coalition']\n",
      "Top 10 terms in cluster 16 are: ['India', 'London', 'Parliament', 'two', 'English', 'Afghanistan', 'Indian', 'Syria', 'third', 'House']\n",
      "Top 10 terms in cluster 17 are: ['CMA', 'London', 'Parliament', 'European', 'two', 'Libya', 'the 2010 to 2015', 'Northern Ireland', 'Liberal Democrat coalition', 'the Middle East']\n",
      "Top 10 terms in cluster 18 are: ['Wales', 'Northern Ireland', 'Liberal Democrat coalition', 'European', 'the 2010 to 2015', 'Parliament', 'UN', 'third', 'London', 'China']\n",
      "Top 10 terms in cluster 19 are: ['China', 'London', 'US', 'Northern Ireland', 'two', 'Parliament', 'India', 'First', 'three', 'last year']\n"
     ]
    }
   ],
   "source": [
    "for k,cntr in most_common_ents.items():\n",
    "    print(\"Top 10 terms in cluster {} are: {}\".format(k,cntr))"
   ]
  },
  {
   "cell_type": "code",
   "execution_count": 97,
   "metadata": {},
   "outputs": [
    {
     "data": {
      "text/plain": [
       "{'Benefits Births',\n",
       " 'EU',\n",
       " 'Europe',\n",
       " 'Liberal Democrat coalition',\n",
       " 'National Insurance',\n",
       " 'Rhestr o',\n",
       " 'Send Services',\n",
       " 'UK',\n",
       " 'Wasanaethau Cymraeg',\n",
       " 'first',\n",
       " 'one',\n",
       " 'the 2010 to 2015',\n",
       " 'the Government Digital Service Open Government Licence',\n",
       " 'the United Kingdom',\n",
       " 'today',\n",
       " 'two',\n",
       " '© Crown'}"
      ]
     },
     "execution_count": 97,
     "metadata": {},
     "output_type": "execute_result"
    }
   ],
   "source": [
    "import os\n",
    "\n",
    "def finder(name,path):\n",
    "    for root, dirr, files in os.walk(path):\n",
    "        if name in files:\n",
    "            return os.path.join(root,name)\n",
    "        \n"
   ]
  },
  {
   "cell_type": "code",
   "execution_count": 128,
   "metadata": {},
   "outputs": [],
   "source": [
    "from sklearn.metrics import silhouette_score\n",
    "score = silhouette_score(X,kmeans.labels_,sample_size=10000)"
   ]
  },
  {
   "cell_type": "code",
   "execution_count": 6,
   "metadata": {},
   "outputs": [],
   "source": [
    "import numpy as np\n",
    "u, s, vh = np.linalg.svd(X,full_matrices=False)"
   ]
  },
  {
   "cell_type": "code",
   "execution_count": 129,
   "metadata": {},
   "outputs": [
    {
     "data": {
      "text/plain": [
       "-0.04984471313963588"
      ]
     },
     "execution_count": 129,
     "metadata": {},
     "output_type": "execute_result"
    }
   ],
   "source": [
    "score"
   ]
  },
  {
   "cell_type": "code",
   "execution_count": 130,
   "metadata": {},
   "outputs": [],
   "source": [
    "kmeans2 = fit_kmeans(X,k=5)"
   ]
  },
  {
   "cell_type": "code",
   "execution_count": 131,
   "metadata": {},
   "outputs": [
    {
     "data": {
      "text/plain": [
       "0.04844769341535477"
      ]
     },
     "execution_count": 131,
     "metadata": {},
     "output_type": "execute_result"
    }
   ],
   "source": [
    "score2=silhouette_score(X,kmeans2.labels_,sample_size=10000)\n",
    "score2"
   ]
  },
  {
   "cell_type": "code",
   "execution_count": null,
   "metadata": {},
   "outputs": [],
   "source": [
    "kmeans3=fit_kmeans(X,k=10)"
   ]
  },
  {
   "cell_type": "code",
   "execution_count": null,
   "metadata": {},
   "outputs": [],
   "source": [
    "score3=silhouette_score(X,kmeans3.labels_,sample_size=10000)"
   ]
  },
  {
   "cell_type": "code",
   "execution_count": null,
   "metadata": {},
   "outputs": [],
   "source": [
    "score3"
   ]
  },
  {
   "cell_type": "code",
   "execution_count": 136,
   "metadata": {},
   "outputs": [
    {
     "data": {
      "text/plain": [
       "0.04074352330788827"
      ]
     },
     "execution_count": 136,
     "metadata": {},
     "output_type": "execute_result"
    }
   ],
   "source": [
    "kmeans4=fit_kmeans(X,k=3)\n",
    "score4=silhouette_score(X,kmeans4.labels_,sample_size=10000)\n",
    "score4"
   ]
  },
  {
   "cell_type": "code",
   "execution_count": 16,
   "metadata": {},
   "outputs": [
    {
     "ename": "NameError",
     "evalue": "name 'silhouette_score' is not defined",
     "output_type": "error",
     "traceback": [
      "\u001b[0;31m---------------------------------------------------------------------------\u001b[0m",
      "\u001b[0;31mNameError\u001b[0m                                 Traceback (most recent call last)",
      "\u001b[0;32m<ipython-input-16-b5522fa6ad03>\u001b[0m in \u001b[0;36m<module>\u001b[0;34m\u001b[0m\n\u001b[1;32m      1\u001b[0m \u001b[0mkmeans5\u001b[0m\u001b[0;34m=\u001b[0m\u001b[0mfit_kmeans\u001b[0m\u001b[0;34m(\u001b[0m\u001b[0mX\u001b[0m\u001b[0;34m,\u001b[0m\u001b[0mk\u001b[0m\u001b[0;34m=\u001b[0m\u001b[0;36m2\u001b[0m\u001b[0;34m)\u001b[0m\u001b[0;34m\u001b[0m\u001b[0;34m\u001b[0m\u001b[0m\n\u001b[0;32m----> 2\u001b[0;31m \u001b[0mscore5\u001b[0m\u001b[0;34m=\u001b[0m\u001b[0msilhouette_score\u001b[0m\u001b[0;34m(\u001b[0m\u001b[0mX\u001b[0m\u001b[0;34m,\u001b[0m\u001b[0mkmeans5\u001b[0m\u001b[0;34m.\u001b[0m\u001b[0mlabels_\u001b[0m\u001b[0;34m,\u001b[0m\u001b[0msample_size\u001b[0m\u001b[0;34m=\u001b[0m\u001b[0;36m10000\u001b[0m\u001b[0;34m)\u001b[0m\u001b[0;34m\u001b[0m\u001b[0;34m\u001b[0m\u001b[0m\n\u001b[0m",
      "\u001b[0;31mNameError\u001b[0m: name 'silhouette_score' is not defined"
     ]
    }
   ],
   "source": [
    "kmeans5=fit_kmeans(X,k=2)\n",
    "score5=silhouette_score(X,kmeans5.labels_,sample_size=10000)"
   ]
  },
  {
   "cell_type": "code",
   "execution_count": 138,
   "metadata": {},
   "outputs": [
    {
     "data": {
      "text/plain": [
       "0.12757076376311166"
      ]
     },
     "execution_count": 138,
     "metadata": {},
     "output_type": "execute_result"
    }
   ],
   "source": [
    "score5"
   ]
  },
  {
   "cell_type": "code",
   "execution_count": 139,
   "metadata": {},
   "outputs": [
    {
     "data": {
      "text/plain": [
       "array([697.4309388 , 421.63166507, 276.59804004, 266.40472702,\n",
       "       246.55416441, 238.85851536, 232.32140961, 231.03891876,\n",
       "       222.20700209, 219.65083091, 217.22634132, 216.32792767,\n",
       "       214.13637076, 213.41701703, 209.63327724, 207.02425369,\n",
       "       206.06710083, 204.57428135, 203.47508095, 201.23711366,\n",
       "       200.20811625, 198.84747607, 197.33670085, 196.75874841,\n",
       "       195.7641044 , 195.32662868, 193.70003595, 193.32040704,\n",
       "       191.77691774, 191.20735706, 189.8047651 , 187.93522686,\n",
       "       187.34116909, 185.58992748, 185.04327975, 183.22983556,\n",
       "       182.90887732, 182.0031071 , 181.24338926, 180.38014129,\n",
       "       179.31995385, 178.76242518, 177.60985001, 176.00235394,\n",
       "       175.85064153, 174.74465264, 173.25939227, 172.76057255,\n",
       "       171.9242275 , 171.56896392, 170.88704597, 170.03645191,\n",
       "       169.47255219, 168.1957213 , 167.77864829, 165.20360702,\n",
       "       164.83969347, 164.09142898, 163.70459078, 163.00374454,\n",
       "       161.63770121, 160.26281321, 159.82413132, 159.56423244,\n",
       "       158.69459804, 158.05248781, 157.89697659, 157.3428374 ,\n",
       "       156.49434657, 156.07010774, 155.26153772, 154.22518857,\n",
       "       153.39812884, 153.03658866, 152.13310317, 151.73390196,\n",
       "       151.38310972, 151.17911972, 150.08247996, 149.8307109 ,\n",
       "       148.9724401 , 148.55105413, 147.42332868, 146.5262309 ,\n",
       "       145.75922242, 145.22302039, 144.5218935 , 143.9772127 ,\n",
       "       143.78619231, 143.20482806, 142.57147297, 142.4671497 ,\n",
       "       141.5132991 , 141.08785683, 140.51134238, 140.13280538,\n",
       "       139.97965767, 139.08097087, 138.48637566, 138.0352493 ,\n",
       "       137.21106268, 136.84976686, 136.31693438, 135.62397204,\n",
       "       134.99940135, 134.35697651, 134.05300521, 133.35234768,\n",
       "       132.97673902, 132.18646411, 131.42940794, 130.87474321,\n",
       "       130.75134982, 129.78904297, 129.45744158, 128.89555395,\n",
       "       128.31643102, 128.06472152, 127.4454177 , 126.84396003,\n",
       "       126.68932672, 125.91496223, 125.03744958, 124.66846782,\n",
       "       124.29141294, 123.45958556, 123.09512356, 122.56619161,\n",
       "       121.90373227, 121.83670123, 120.89353555, 120.67485683,\n",
       "       119.88183572, 119.79922432, 119.07837457, 118.40734457,\n",
       "       117.6524409 , 117.37150317, 117.04363467, 116.65061937,\n",
       "       116.51653589, 116.18989695, 115.5043743 , 114.77484035,\n",
       "       114.43237125, 114.00571935, 113.42800147, 113.25719713,\n",
       "       112.76141728, 112.34118573, 111.94211264, 111.05727459,\n",
       "       110.7555639 , 110.34799387, 109.96870144, 109.74618743,\n",
       "       108.82834969, 108.5705326 , 107.97082717, 107.71354347,\n",
       "       107.35725164, 107.09223969, 106.41743172, 106.15785912,\n",
       "       105.31999281, 104.57969814, 104.38630535, 104.13604399,\n",
       "       103.51087422, 103.19001626, 102.66891662, 102.30799218,\n",
       "       101.9052438 , 101.36658447, 100.83144419, 100.79710247,\n",
       "        99.98949522,  99.47135892,  99.26468751,  99.00137187,\n",
       "        98.7334188 ,  97.82962218,  97.27704838,  96.81948986,\n",
       "        96.33605794,  95.98792993,  95.15600194,  95.0437336 ,\n",
       "        94.77491502,  93.83750128,  93.16320707,  92.88956773,\n",
       "        92.58613529,  91.83937837,  91.52448863,  90.6320208 ,\n",
       "        90.47711928,  90.26281548,  89.86546055,  89.22620757,\n",
       "        88.81217794,  88.4810266 ,  88.16139304,  87.79054991,\n",
       "        87.25310284,  86.89481402,  86.47575814,  85.95484907,\n",
       "        85.50974901,  85.08327326,  84.92950413,  83.9874024 ,\n",
       "        83.81513249,  83.28423419,  82.63018143,  82.42942491,\n",
       "        82.12038402,  81.8002978 ,  81.2400758 ,  80.63275257,\n",
       "        80.2120029 ,  79.81104363,  79.24994486,  78.70031498,\n",
       "        78.3113806 ,  77.90854808,  77.74397537,  77.18147849,\n",
       "        76.51170752,  75.82991423,  75.50142458,  75.42809435,\n",
       "        74.70731093,  74.49970927,  73.95551776,  73.73676266,\n",
       "        73.1118946 ,  72.52953112,  72.32236851,  71.90395166,\n",
       "        71.66605886,  71.27322047,  70.72354546,  70.05332305,\n",
       "        69.69517297,  69.12059161,  68.45651746,  68.21749216,\n",
       "        67.76175725,  67.13752847,  66.94954684,  66.90898707,\n",
       "        66.35909411,  65.88533564,  65.35107688,  65.12808402,\n",
       "        64.65046162,  64.09119701,  63.61701668,  63.53310724,\n",
       "        63.12306474,  62.91849201,  62.28795794,  61.32818786,\n",
       "        61.03546741,  60.53150694,  59.85521504,  59.32125347,\n",
       "        59.08327865,  58.62387865,  57.99037895,  57.50018645,\n",
       "        57.11011435,  56.77963824,  56.19456414,  55.47083746,\n",
       "        55.25716492,  55.09088377,  54.85142357,  54.55218117,\n",
       "        54.10947997,  53.59725201,  53.42994281,  52.88143957,\n",
       "        51.98242831,  51.60308919,  50.69360489,  49.84384863,\n",
       "        49.50710392,  49.38280353,  48.56358057,  47.51883749,\n",
       "        46.04621955,  45.25366057,  44.67238252,  43.07093293,\n",
       "        41.89258643,  40.70981033,  36.04268825,  30.17754451])"
      ]
     },
     "execution_count": 139,
     "metadata": {},
     "output_type": "execute_result"
    }
   ],
   "source": [
    "s"
   ]
  },
  {
   "cell_type": "code",
   "execution_count": 19,
   "metadata": {},
   "outputs": [],
   "source": [
    "#TSNE takes too long ;(\n",
    "#from sklearn.manifold import TSNE\n",
    "\n",
    "#tsne=TSNE(n_components=2,verbose=1,perplexity=40,n_iter=300)\n",
    "#tsne_results=tsne.fit_transform(red_X)\n",
    "\n",
    "from sklearn.decomposition import PCA \n",
    "pca=PCA(n_components=3)\n",
    "pca_result=pca.fit_transform(X)\n"
   ]
  },
  {
   "cell_type": "code",
   "execution_count": 23,
   "metadata": {},
   "outputs": [
    {
     "data": {
      "image/png": "[encoded data removed]",
      "text/plain": [
       "<Figure size 432x288 with 1 Axes>"
      ]
     },
     "metadata": {
      "needs_background": "light"
     },
     "output_type": "display_data"
    }
   ],
   "source": [
    "from mpl_toolkits.mplot3d import Axes3D\n",
    "import seaborn as sns\n",
    "import matplotlib.pyplot as plt\n",
    "\n",
    "\n",
    "df2=pd.DataFrame({'x':pca_result[:,0],'y':pca_result[:,1],'z':pca_result[:,2]})\n",
    "df2['hue']=kmeans5.labels_\n",
    "fig=plt.figure()\n",
    "ax=fig.add_subplot(111,projection='3d')\n",
    "ax.scatter(xs=df2['x'],ys=df2['y'],zs=df2['z'],c=df2['hue'],cmap='tab10')\n",
    "#sns.scatterplot(\n",
    "#            x='x',y='y',z='z',hue='hue',\n",
    "#            palette=sns.color_palette('hls',2),\n",
    "#            data=df2,legend='full',alpha=0.3)\n",
    "plt.show()\n"
   ]
  },
  {
   "cell_type": "code",
   "execution_count": 7,
   "metadata": {},
   "outputs": [],
   "source": [
    "smat=np.diag(s)\n",
    "red_X=np.dot(u[:,:20],smat[:20,:20])"
   ]
  },
  {
   "cell_type": "code",
   "execution_count": 9,
   "metadata": {},
   "outputs": [
    {
     "data": {
      "text/plain": [
       "(357831, 20)"
      ]
     },
     "execution_count": 9,
     "metadata": {},
     "output_type": "execute_result"
    }
   ],
   "source": [
    "red_X.shape"
   ]
  },
  {
   "cell_type": "code",
   "execution_count": null,
   "metadata": {},
   "outputs": [],
   "source": []
  }
 ],
 "metadata": {
  "kernelspec": {
   "display_name": "Python 3",
   "language": "python",
   "name": "python3"
  },
  "language_info": {
   "codemirror_mode": {
    "name": "ipython",
    "version": 3
   },
   "file_extension": ".py",
   "mimetype": "text/x-python",
   "name": "python",
   "nbconvert_exporter": "python",
   "pygments_lexer": "ipython3",
   "version": "3.6.9"
  }
 },
 "nbformat": 4,
 "nbformat_minor": 2
}
